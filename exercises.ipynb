{
 "cells": [
  {
   "cell_type": "code",
   "execution_count": 2,
   "metadata": {},
   "outputs": [
    {
     "name": "stdout",
     "output_type": "stream",
     "text": [
      "Setup Complete\n"
     ]
    }
   ],
   "source": [
    "from learntools.core import binder\n",
    "binder.bind(globals())\n",
    "from learntools_ex import *\n",
    "print(\"Setup Complete\")\n",
    "\n",
    "import numpy as np, pandas as pd"
   ]
  },
  {
   "cell_type": "markdown",
   "metadata": {},
   "source": [
    "> **WARNING:** The tests will fail if you reorder the columns or rows for no reason.\n",
    "\n",
    "> **Note**: The dataset 3 is large enough to exceed the Github normal storage for repositories. You **should not push** the whole file and only use it locally. You can modify `.gitignore` to command git to ignore that file."
   ]
  },
  {
   "cell_type": "markdown",
   "metadata": {},
   "source": [
    "**ATTENTION:** _For questions which require you to have a pre-loaded dataset assigned to a variable, make sure to **not make any changes to that variable** either inside or outside of your solution functions. This could be done by **copying or cloning** the variable to another temporary variable which can be read or written as you like. For example, you have a variable `df` which is storing a dataset by running `df = pandas.read_csv(\"path/to/your/file.csv\")`, and a question asking you to \"multiply column A by 3\". One possible solution would be:_\n",
    "\n",
    "```python\n",
    "import pandas as pd\n",
    "\n",
    "df = pd.read_csv(\"path/to/your/file.csv\")\n",
    "\n",
    "def exercise_n(df) -> pd.DataFrame:\n",
    "    df['A'] = df['A'] * 3 #changes made directly to column A of the df variable\n",
    "    return df\n",
    "\n",
    "exn_sol = exercise_n(df)\n",
    "```\n",
    "\n",
    "_This will be fine if the dataset is only used for that single question. However, as Python treats the arguments of functions are passed by references if the arguments are objects, writing this kind of function would overwrite the data in your original `df`. To avoid this, you should always make a copy at the beginning of your function and manipulate that copy instead of the argument. It would look like this:_\n",
    "\n",
    "```python\n",
    "import pandas as pd\n",
    "\n",
    "df = pd.read_csv(\"path/to/your/file.csv\")\n",
    "\n",
    "def exercise_n(df) -> pd.DataFrame:\n",
    "    cloned_df = df.copy() #temporary variable for manipulations\n",
    "\n",
    "    cloned_df['A'] = cloned_df['A'] * 3 #note that the df argument is not used anywhere else except for the cloning step\n",
    "    return cloned_df\n",
    "\n",
    "exn_sol = exercise_n(df)\n",
    "```"
   ]
  },
  {
   "cell_type": "markdown",
   "metadata": {},
   "source": [
    "## Questions"
   ]
  },
  {
   "cell_type": "markdown",
   "metadata": {},
   "source": [
    "### Q1: Form a DataFrame with values and column names given below. Use the variable names as column names."
   ]
  },
  {
   "cell_type": "code",
   "execution_count": 4,
   "metadata": {},
   "outputs": [
    {
     "data": {
      "application/javascript": "parent.postMessage({\"jupyterEvent\": \"custom.exercise_interaction\", \"data\": {\"outcomeType\": 1, \"valueTowardsCompletion\": 0.05, \"interactionType\": 1, \"questionType\": 1, \"questionId\": \"1_Exercise1\", \"failureMessage\": \"\", \"exceptionClass\": \"\", \"trace\": \"\"}}, \"*\")",
      "text/plain": [
       "<IPython.core.display.Javascript object>"
      ]
     },
     "metadata": {},
     "output_type": "display_data"
    },
    {
     "data": {
      "text/markdown": [
       "<span style=\"color:#33cc33\">Correct</span>"
      ],
      "text/plain": [
       "Correct"
      ]
     },
     "metadata": {},
     "output_type": "display_data"
    }
   ],
   "source": [
    "A = [1, 2, 3, 4]\n",
    "B = [5, 6, 7, 8]\n",
    "\n",
    "def exercise_1(A, B) -> pd.DataFrame:\n",
    "    return pd.DataFrame({'A': A, 'B': B})\n",
    "\n",
    "\n",
    "ex1_sol = exercise_1(A, B)\n",
    "q1.check()"
   ]
  },
  {
   "cell_type": "markdown",
   "metadata": {},
   "source": [
    "### Q2: Form a DataFrame with the given Series. Use the variable names as column names."
   ]
  },
  {
   "cell_type": "code",
   "execution_count": 5,
   "metadata": {},
   "outputs": [
    {
     "data": {
      "application/javascript": "parent.postMessage({\"jupyterEvent\": \"custom.exercise_interaction\", \"data\": {\"outcomeType\": 1, \"valueTowardsCompletion\": 0.05, \"interactionType\": 1, \"questionType\": 1, \"questionId\": \"2_Exercise2\", \"failureMessage\": \"\", \"exceptionClass\": \"\", \"trace\": \"\"}}, \"*\")",
      "text/plain": [
       "<IPython.core.display.Javascript object>"
      ]
     },
     "metadata": {},
     "output_type": "display_data"
    },
    {
     "data": {
      "text/markdown": [
       "<span style=\"color:#33cc33\">Correct</span>"
      ],
      "text/plain": [
       "Correct"
      ]
     },
     "metadata": {},
     "output_type": "display_data"
    }
   ],
   "source": [
    "ser1 = pd.Series(list('iloveyou'))\n",
    "ser2 = pd.Series(range(8))\n",
    "\n",
    "def exercise_2(ser1, ser2) -> pd.DataFrame:\n",
    "    return pd.DataFrame({'ser1': ser1, 'ser2': ser2})\n",
    "\n",
    "ex2_sol = exercise_2(ser1, ser2)\n",
    "q2.check()"
   ]
  },
  {
   "cell_type": "markdown",
   "metadata": {},
   "source": [
    "### Q3: How to get the items not common to both series A and series B? (Not in their intersection set)"
   ]
  },
  {
   "cell_type": "code",
   "execution_count": 6,
   "metadata": {},
   "outputs": [
    {
     "data": {
      "application/javascript": "parent.postMessage({\"jupyterEvent\": \"custom.exercise_interaction\", \"data\": {\"outcomeType\": 1, \"valueTowardsCompletion\": 0.05, \"interactionType\": 1, \"questionType\": 1, \"questionId\": \"3_Exercise3\", \"failureMessage\": \"\", \"exceptionClass\": \"\", \"trace\": \"\"}}, \"*\")",
      "text/plain": [
       "<IPython.core.display.Javascript object>"
      ]
     },
     "metadata": {},
     "output_type": "display_data"
    },
    {
     "data": {
      "text/markdown": [
       "<span style=\"color:#33cc33\">Correct</span>"
      ],
      "text/plain": [
       "Correct"
      ]
     },
     "metadata": {},
     "output_type": "display_data"
    }
   ],
   "source": [
    "A = pd.Series([14, 15, 16, 17, 18])\n",
    "B = pd.Series([11, 12, 13, 14, 15])\n",
    "\n",
    "def exercise_3(A, B) -> pd.Series:\n",
    "    common = set(A) & set(B)\n",
    "    diff = (set(A) | set(B)) - common\n",
    "    return pd.Series(list(diff))\n",
    "\n",
    "ex3_sol = exercise_3(A, B)\n",
    "q3.check()"
   ]
  },
  {
   "cell_type": "markdown",
   "metadata": {},
   "source": [
    "## Instructions for Dataset 1\n",
    "\n",
    "The `DataFrame` given below will be used for questions 4, 5 and 6."
   ]
  },
  {
   "cell_type": "code",
   "execution_count": 8,
   "metadata": {},
   "outputs": [],
   "source": [
    "df = pd.DataFrame({ \n",
    "    'ID': [10, np.nan, 20, 30, np.nan, 50, np.nan, \n",
    "           150, 200, 102, np.nan, 130], \n",
    "  \n",
    "    'Sale': [10, 20, np.nan, 11, 90, np.nan, \n",
    "             55, 14, np.nan, 25, 75, 35], \n",
    "  \n",
    "    'Date': ['2020-10-05', '2020-09-10', np.nan, \n",
    "             '2020-08-17', '2020-09-10', '2020-07-27', \n",
    "             '2020-09-10', '2020-10-10', '2020-10-10', \n",
    "             '2020-06-27', '2020-08-17', '2020-04-25'], \n",
    "})"
   ]
  },
  {
   "cell_type": "markdown",
   "metadata": {},
   "source": [
    "## Questions"
   ]
  },
  {
   "cell_type": "markdown",
   "metadata": {},
   "source": [
    "### Q4: Fill any NaN value in the column 'Sale' with 0. Return the filled column 'Sale' only."
   ]
  },
  {
   "cell_type": "code",
   "execution_count": 9,
   "metadata": {},
   "outputs": [
    {
     "data": {
      "application/javascript": "parent.postMessage({\"jupyterEvent\": \"custom.exercise_interaction\", \"data\": {\"outcomeType\": 1, \"valueTowardsCompletion\": 0.05, \"interactionType\": 1, \"questionType\": 1, \"questionId\": \"4_Exercise4\", \"failureMessage\": \"\", \"exceptionClass\": \"\", \"trace\": \"\"}}, \"*\")",
      "text/plain": [
       "<IPython.core.display.Javascript object>"
      ]
     },
     "metadata": {},
     "output_type": "display_data"
    },
    {
     "data": {
      "text/markdown": [
       "<span style=\"color:#33cc33\">Correct</span>"
      ],
      "text/plain": [
       "Correct"
      ]
     },
     "metadata": {},
     "output_type": "display_data"
    }
   ],
   "source": [
    "def exercise_4(df) -> pd.Series:\n",
    "    return df['Sale'].fillna(0)\n",
    "\n",
    "ex4_sol = exercise_4(df)\n",
    "q4.check()"
   ]
  },
  {
   "cell_type": "markdown",
   "metadata": {},
   "source": [
    "### Q5: Fill any NaN value of the column \"Sale\" with the mean value of the column. Return the filled column 'Sale' only. Round your results to the nearest integer."
   ]
  },
  {
   "cell_type": "code",
   "execution_count": 10,
   "metadata": {},
   "outputs": [
    {
     "data": {
      "application/javascript": "parent.postMessage({\"jupyterEvent\": \"custom.exercise_interaction\", \"data\": {\"outcomeType\": 1, \"valueTowardsCompletion\": 0.05, \"interactionType\": 1, \"questionType\": 1, \"questionId\": \"5_Exercise5\", \"failureMessage\": \"\", \"exceptionClass\": \"\", \"trace\": \"\"}}, \"*\")",
      "text/plain": [
       "<IPython.core.display.Javascript object>"
      ]
     },
     "metadata": {},
     "output_type": "display_data"
    },
    {
     "data": {
      "text/markdown": [
       "<span style=\"color:#33cc33\">Correct</span>"
      ],
      "text/plain": [
       "Correct"
      ]
     },
     "metadata": {},
     "output_type": "display_data"
    }
   ],
   "source": [
    "def exercise_5(df) -> pd.Series:\n",
    "    mean_sale = df['Sale'].mean()\n",
    "\n",
    "    return df['Sale'].fillna(mean_sale).round().astype(int)\n",
    "\n",
    "ex5_sol = exercise_5(df)\n",
    "q5.check()"
   ]
  },
  {
   "cell_type": "markdown",
   "metadata": {},
   "source": [
    "### Q6: How many products are there which can be identified with \"ID\"?"
   ]
  },
  {
   "cell_type": "code",
   "execution_count": 11,
   "metadata": {},
   "outputs": [
    {
     "data": {
      "application/javascript": "parent.postMessage({\"jupyterEvent\": \"custom.exercise_interaction\", \"data\": {\"outcomeType\": 1, \"valueTowardsCompletion\": 0.05, \"interactionType\": 1, \"questionType\": 1, \"questionId\": \"6_Exercise6\", \"failureMessage\": \"\", \"exceptionClass\": \"\", \"trace\": \"\"}}, \"*\")",
      "text/plain": [
       "<IPython.core.display.Javascript object>"
      ]
     },
     "metadata": {},
     "output_type": "display_data"
    },
    {
     "data": {
      "text/markdown": [
       "<span style=\"color:#33cc33\">Correct</span>"
      ],
      "text/plain": [
       "Correct"
      ]
     },
     "metadata": {},
     "output_type": "display_data"
    }
   ],
   "source": [
    "def exercise_6(df) -> int:\n",
    "    return df['ID'].notna().sum()\n",
    "\n",
    "ex6_sol = exercise_6(df)\n",
    "q6.check()"
   ]
  },
  {
   "cell_type": "markdown",
   "metadata": {},
   "source": [
    "## Instructions for dataset 2\n",
    "Get your data at [https://raw.githubusercontent.com/guipsamora/pandas_exercises/master/04_Apply/US_Crime_Rates/US_Crime_Rates_1960_2014.csv](https://raw.githubusercontent.com/guipsamora/pandas_exercises/master/04_Apply/US_Crime_Rates/US_Crime_Rates_1960_2014.csv) and change the path to your downloaded file. Store it as a `Dataframe` in a variable for your answers later."
   ]
  },
  {
   "cell_type": "code",
   "execution_count": null,
   "metadata": {},
   "outputs": [],
   "source": [
    "# reading and storing in this cell\n",
    "#df = pd.read_csv(r\"C:\\Users\\BINH\\Downloads\\US_Crime_Rates_1960_2014.csv\")"
   ]
  },
  {
   "cell_type": "markdown",
   "metadata": {},
   "source": [
    "## Questions"
   ]
  },
  {
   "cell_type": "markdown",
   "metadata": {},
   "source": [
    "### Q7: How many years of crime data are collected in the dataset? (The crime data has been collected in a span of ? years)"
   ]
  },
  {
   "cell_type": "code",
   "execution_count": 29,
   "metadata": {},
   "outputs": [
    {
     "data": {
      "application/javascript": "parent.postMessage({\"jupyterEvent\": \"custom.exercise_interaction\", \"data\": {\"outcomeType\": 1, \"valueTowardsCompletion\": 0.05, \"interactionType\": 1, \"questionType\": 1, \"questionId\": \"7_Exercise7\", \"failureMessage\": \"\", \"exceptionClass\": \"\", \"trace\": \"\"}}, \"*\")",
      "text/plain": [
       "<IPython.core.display.Javascript object>"
      ]
     },
     "metadata": {},
     "output_type": "display_data"
    },
    {
     "data": {
      "text/markdown": [
       "<span style=\"color:#33cc33\">Correct</span>"
      ],
      "text/plain": [
       "Correct"
      ]
     },
     "metadata": {},
     "output_type": "display_data"
    }
   ],
   "source": [
    "def exercise_7(df) -> int:\n",
    "    avg_df = df.groupby(\"Year\")[\"Murder\"].mean().reset_index()\n",
    "\n",
    "    return avg_df.shape[0]\n",
    "\n",
    "ex7_sol = exercise_7(df)\n",
    "q7.check()"
   ]
  },
  {
   "cell_type": "markdown",
   "metadata": {},
   "source": [
    "### Q8: Find the year with the highest number of property crimes."
   ]
  },
  {
   "cell_type": "code",
   "execution_count": 38,
   "metadata": {},
   "outputs": [
    {
     "data": {
      "application/javascript": "parent.postMessage({\"jupyterEvent\": \"custom.exercise_interaction\", \"data\": {\"outcomeType\": 1, \"valueTowardsCompletion\": 0.05, \"interactionType\": 1, \"questionType\": 1, \"questionId\": \"8_Exercise8\", \"failureMessage\": \"\", \"exceptionClass\": \"\", \"trace\": \"\"}}, \"*\")",
      "text/plain": [
       "<IPython.core.display.Javascript object>"
      ]
     },
     "metadata": {},
     "output_type": "display_data"
    },
    {
     "data": {
      "text/markdown": [
       "<span style=\"color:#33cc33\">Correct</span>"
      ],
      "text/plain": [
       "Correct"
      ]
     },
     "metadata": {},
     "output_type": "display_data"
    }
   ],
   "source": [
    "def exercise_8(df) -> int:\n",
    "    idx_max = df['Property'].idxmax()\n",
    "    max_year = int(df.loc[idx_max, 'Year'])\n",
    "\n",
    "    return max_year\n",
    "ex8_sol = exercise_8(df)\n",
    "q8.check()"
   ]
  },
  {
   "cell_type": "markdown",
   "metadata": {},
   "source": [
    "### Q9: Convert the column Year to type datetime64 and set it as the index column of the DataFrame."
   ]
  },
  {
   "cell_type": "markdown",
   "metadata": {},
   "source": [
    "This question cannot be tested currently using `leartools`, hence the `q9.check()` always ouput as `correct`. Make sure your code works by yourself before submitting to Github."
   ]
  },
  {
   "cell_type": "code",
   "execution_count": 39,
   "metadata": {},
   "outputs": [
    {
     "name": "stdout",
     "output_type": "stream",
     "text": [
      "The answer for this question is undetermined, use the online test instead.\n"
     ]
    },
    {
     "data": {
      "application/javascript": "parent.postMessage({\"jupyterEvent\": \"custom.exercise_interaction\", \"data\": {\"outcomeType\": 1, \"valueTowardsCompletion\": 0.05, \"interactionType\": 1, \"questionType\": 1, \"questionId\": \"9_Exercise9\", \"failureMessage\": \"\", \"exceptionClass\": \"\", \"trace\": \"\"}}, \"*\")",
      "text/plain": [
       "<IPython.core.display.Javascript object>"
      ]
     },
     "metadata": {},
     "output_type": "display_data"
    },
    {
     "data": {
      "text/markdown": [
       "<span style=\"color:#33cc33\">Correct</span>"
      ],
      "text/plain": [
       "Correct"
      ]
     },
     "metadata": {},
     "output_type": "display_data"
    }
   ],
   "source": [
    "def exercise_9(df) -> pd.DataFrame:\n",
    "    return df['Violent'].pct_change().dropna()\n",
    "ex9_sol = exercise_9(df)\n",
    "q9.check()"
   ]
  },
  {
   "cell_type": "markdown",
   "metadata": {},
   "source": [
    "### Q10: Delete any column having \"theft\" in its name (case insensitive). Show the first 10 rows."
   ]
  },
  {
   "cell_type": "code",
   "execution_count": 41,
   "metadata": {},
   "outputs": [
    {
     "data": {
      "application/javascript": "parent.postMessage({\"jupyterEvent\": \"custom.exercise_interaction\", \"data\": {\"outcomeType\": 1, \"valueTowardsCompletion\": 0.05, \"interactionType\": 1, \"questionType\": 1, \"questionId\": \"10_Exercise10\", \"failureMessage\": \"\", \"exceptionClass\": \"\", \"trace\": \"\"}}, \"*\")",
      "text/plain": [
       "<IPython.core.display.Javascript object>"
      ]
     },
     "metadata": {},
     "output_type": "display_data"
    },
    {
     "data": {
      "text/markdown": [
       "<span style=\"color:#33cc33\">Correct</span>"
      ],
      "text/plain": [
       "Correct"
      ]
     },
     "metadata": {},
     "output_type": "display_data"
    }
   ],
   "source": [
    "def exercise_10(df) -> pd.DataFrame:\n",
    "    cols_to_drop = [col for col in df.columns if \"theft\" in col.lower()]\n",
    "    df_new = df.drop(columns=cols_to_drop)\n",
    "\n",
    "\n",
    "    return df_new.head(10)\n",
    "ex10_sol = exercise_10(df)\n",
    "q10.check()"
   ]
  },
  {
   "cell_type": "markdown",
   "metadata": {},
   "source": [
    "### Q11: Find the year with the largest percentage increase in total crimes compared to the previous year."
   ]
  },
  {
   "cell_type": "code",
   "execution_count": 46,
   "metadata": {},
   "outputs": [
    {
     "data": {
      "application/javascript": "parent.postMessage({\"jupyterEvent\": \"custom.exercise_interaction\", \"data\": {\"outcomeType\": 1, \"valueTowardsCompletion\": 0.05, \"interactionType\": 1, \"questionType\": 1, \"questionId\": \"11_Exercise11\", \"failureMessage\": \"\", \"exceptionClass\": \"\", \"trace\": \"\"}}, \"*\")",
      "text/plain": [
       "<IPython.core.display.Javascript object>"
      ]
     },
     "metadata": {},
     "output_type": "display_data"
    },
    {
     "data": {
      "text/markdown": [
       "<span style=\"color:#33cc33\">Correct</span>"
      ],
      "text/plain": [
       "Correct"
      ]
     },
     "metadata": {},
     "output_type": "display_data"
    }
   ],
   "source": [
    "def exercise_11(df) -> int:\n",
    "    total = df['Violent'] + df['Property']\n",
    "    pct_change = total.pct_change()\n",
    "    idx_max = pct_change.idxmax()\n",
    "\n",
    "    return int(df.loc[idx_max, 'Year'])\n",
    "ex11_sol = exercise_11(df)\n",
    "q11.check()"
   ]
  },
  {
   "cell_type": "markdown",
   "metadata": {},
   "source": [
    "**Note**: percentage change of 2 numbers A comparing to B is ((A-B)/A) * 100"
   ]
  },
  {
   "cell_type": "markdown",
   "metadata": {},
   "source": [
    "### Q12: Calculate the percentage change in robbery crimes from 1960 to 2014. Round it to the nearest 2 decimal places. "
   ]
  },
  {
   "cell_type": "code",
   "execution_count": 47,
   "metadata": {},
   "outputs": [
    {
     "data": {
      "application/javascript": "parent.postMessage({\"jupyterEvent\": \"custom.exercise_interaction\", \"data\": {\"outcomeType\": 1, \"valueTowardsCompletion\": 0.05, \"interactionType\": 1, \"questionType\": 1, \"questionId\": \"12_Exercise12\", \"failureMessage\": \"\", \"exceptionClass\": \"\", \"trace\": \"\"}}, \"*\")",
      "text/plain": [
       "<IPython.core.display.Javascript object>"
      ]
     },
     "metadata": {},
     "output_type": "display_data"
    },
    {
     "data": {
      "text/markdown": [
       "<span style=\"color:#33cc33\">Correct</span>"
      ],
      "text/plain": [
       "Correct"
      ]
     },
     "metadata": {},
     "output_type": "display_data"
    }
   ],
   "source": [
    "def exercise_12(df) -> float:\n",
    "    robbery_1960 = df.loc[df['Year'] == 1960, 'Robbery'].values[0]\n",
    "    robbery_2014 = df.loc[df['Year'] == 2014, 'Robbery'].values[0]\n",
    "    pct_change = ((robbery_2014 - robbery_1960) / robbery_1960) * 100\n",
    "\n",
    "    return round(pct_change, 2)\n",
    "\n",
    "ex12_sol = exercise_12(df)\n",
    "q12.check()"
   ]
  },
  {
   "cell_type": "markdown",
   "metadata": {},
   "source": [
    "## Instructions for dataset 3\n",
    "Get your data at [https://drive.google.com/file/d/1a63cns5w2gOTITIGHy3aipRHua9XJmgz/view](https://drive.google.com/file/d/1a63cns5w2gOTITIGHy3aipRHua9XJmgz/view), which is a subset of the Kaggle Open Food Facts Dataset, and change the path to your downloaded file. Store it as a `Dataframe` in a variable for your answers later. Loading a dataset this large could generate a warning regarding the `dtype` of some columns. Set the option `low_memory=False` to suppress the warning. Ensure the \"code\" column is your index column and has type `str`. "
   ]
  },
  {
   "cell_type": "code",
   "execution_count": null,
   "metadata": {},
   "outputs": [
    {
     "name": "stderr",
     "output_type": "stream",
     "text": [
      "C:\\Users\\BINH\\AppData\\Local\\Temp\\ipykernel_4928\\2022293049.py:2: DtypeWarning: Columns (8,9,10,11,17,18,19,20,21,22,23,24,25,26,28,29,30,35,37,38,39,48,61,62) have mixed types. Specify dtype option on import or set low_memory=False.\n",
      "  df = pd.read_csv(r\"C:\\Users\\BINH\\Downloads\\open-food-facts.csv\",  index_col=0)\n"
     ]
    }
   ],
   "source": [
    "# reading and storing in this cell\n",
    "#df = pd.read_csv(r\"C:\\Users\\BINH\\Downloads\\open-food-facts.csv\",  index_col=0) \n",
    "\n",
    "# remember to comment out or delete the code reading the dataset before pushing"
   ]
  },
  {
   "cell_type": "markdown",
   "metadata": {},
   "source": [
    "## Questions"
   ]
  },
  {
   "cell_type": "markdown",
   "metadata": {},
   "source": [
    "### Q13: How many unique products are available in the dataset?"
   ]
  },
  {
   "cell_type": "code",
   "execution_count": 56,
   "metadata": {},
   "outputs": [
    {
     "data": {
      "application/javascript": "parent.postMessage({\"jupyterEvent\": \"custom.exercise_interaction\", \"data\": {\"outcomeType\": 1, \"valueTowardsCompletion\": 0.05, \"interactionType\": 1, \"questionType\": 1, \"questionId\": \"13_Exercise13\", \"failureMessage\": \"\", \"exceptionClass\": \"\", \"trace\": \"\"}}, \"*\")",
      "text/plain": [
       "<IPython.core.display.Javascript object>"
      ]
     },
     "metadata": {},
     "output_type": "display_data"
    },
    {
     "data": {
      "text/markdown": [
       "<span style=\"color:#33cc33\">Correct</span>"
      ],
      "text/plain": [
       "Correct"
      ]
     },
     "metadata": {},
     "output_type": "display_data"
    }
   ],
   "source": [
    "def exercise_13(df) -> int:\n",
    "    return int(df['product_name'].nunique())\n",
    "\n",
    "ex13_sol = exercise_13(df)\n",
    "q13.check()"
   ]
  },
  {
   "cell_type": "markdown",
   "metadata": {},
   "source": [
    "### Q14: Find the percentage of missing values in each column. Round your results to the nearest 2 decimal places."
   ]
  },
  {
   "cell_type": "code",
   "execution_count": 58,
   "metadata": {},
   "outputs": [
    {
     "data": {
      "application/javascript": "parent.postMessage({\"jupyterEvent\": \"custom.exercise_interaction\", \"data\": {\"outcomeType\": 1, \"valueTowardsCompletion\": 0.05, \"interactionType\": 1, \"questionType\": 1, \"questionId\": \"14_Exercise14\", \"failureMessage\": \"\", \"exceptionClass\": \"\", \"trace\": \"\"}}, \"*\")",
      "text/plain": [
       "<IPython.core.display.Javascript object>"
      ]
     },
     "metadata": {},
     "output_type": "display_data"
    },
    {
     "data": {
      "text/markdown": [
       "<span style=\"color:#33cc33\">Correct</span>"
      ],
      "text/plain": [
       "Correct"
      ]
     },
     "metadata": {},
     "output_type": "display_data"
    }
   ],
   "source": [
    "def exercise_14(df) -> pd.Series:\n",
    "    # Calculate the percentage of missing values for each column.\n",
    "    missing_percentage = (df.isna().sum() / len(df)) * 100\n",
    "    # Round the result to two decimal places.\n",
    "    return missing_percentage.round(2)\n",
    "ex14_sol = exercise_14(df)\n",
    "q14.check()"
   ]
  },
  {
   "cell_type": "markdown",
   "metadata": {},
   "source": [
    "### Q15: Identify the top 5 manufacturers (\"brands\") based on the number of unique products."
   ]
  },
  {
   "cell_type": "code",
   "execution_count": 4,
   "metadata": {},
   "outputs": [
    {
     "data": {
      "application/javascript": "parent.postMessage({\"jupyterEvent\": \"custom.exercise_interaction\", \"data\": {\"outcomeType\": 1, \"valueTowardsCompletion\": 0.05, \"interactionType\": 1, \"questionType\": 1, \"questionId\": \"15_Exercise15\", \"failureMessage\": \"\", \"exceptionClass\": \"\", \"trace\": \"\"}}, \"*\")",
      "text/plain": [
       "<IPython.core.display.Javascript object>"
      ]
     },
     "metadata": {},
     "output_type": "display_data"
    },
    {
     "data": {
      "text/markdown": [
       "<span style=\"color:#33cc33\">Correct</span>"
      ],
      "text/plain": [
       "Correct"
      ]
     },
     "metadata": {},
     "output_type": "display_data"
    }
   ],
   "source": [
    "def exercise_15(df) -> pd.Series:\n",
    "    unique_count = df.groupby('brands')['product_name'].nunique()\n",
    "    # Sort the counts in descending order and select the top 5.\n",
    "    top5 = unique_count.sort_values(ascending=False).head(5)\n",
    "    return top5\n",
    "ex15_sol = exercise_15(df)\n",
    "q15.check()"
   ]
  },
  {
   "cell_type": "markdown",
   "metadata": {},
   "source": [
    "### Q16: Find the most common food additives used in products across all countries."
   ]
  },
  {
   "cell_type": "code",
   "execution_count": 21,
   "metadata": {},
   "outputs": [
    {
     "data": {
      "application/javascript": "parent.postMessage({\"jupyterEvent\": \"custom.exercise_interaction\", \"data\": {\"outcomeType\": 1, \"valueTowardsCompletion\": 0.05, \"interactionType\": 1, \"questionType\": 1, \"questionId\": \"16_Exercise16\", \"failureMessage\": \"\", \"exceptionClass\": \"\", \"trace\": \"\"}}, \"*\")",
      "text/plain": [
       "<IPython.core.display.Javascript object>"
      ]
     },
     "metadata": {},
     "output_type": "display_data"
    },
    {
     "data": {
      "text/markdown": [
       "<span style=\"color:#33cc33\">Correct</span>"
      ],
      "text/plain": [
       "Correct"
      ]
     },
     "metadata": {},
     "output_type": "display_data"
    }
   ],
   "source": [
    "import re\n",
    "\n",
    "def exercise_16(df) -> pd.DataFrame:\n",
    "    additives_full = df['additives'].dropna()\n",
    "\n",
    "    # Count how often each full string appears\n",
    "    top_additives = additives_full.value_counts().head(10)\n",
    "\n",
    "    return top_additives\n",
    "ex16_sol = exercise_16(df)\n",
    "q16.check()"
   ]
  },
  {
   "cell_type": "markdown",
   "metadata": {},
   "source": [
    "### Q17: Calculate the average \"saturated-fat_100g\" of all products containing \"palm oil\" and all products that don't. Return a DataFrame with 2 columns \"contains_palm_oil\" and \"no_palm_oil\" listing your results. Round your result to the nearest 2 decimal places."
   ]
  },
  {
   "cell_type": "code",
   "execution_count": 22,
   "metadata": {},
   "outputs": [
    {
     "data": {
      "application/javascript": "parent.postMessage({\"jupyterEvent\": \"custom.exercise_interaction\", \"data\": {\"outcomeType\": 1, \"valueTowardsCompletion\": 0.05, \"interactionType\": 1, \"questionType\": 1, \"questionId\": \"17_Exercise17\", \"failureMessage\": \"\", \"exceptionClass\": \"\", \"trace\": \"\"}}, \"*\")",
      "text/plain": [
       "<IPython.core.display.Javascript object>"
      ]
     },
     "metadata": {},
     "output_type": "display_data"
    },
    {
     "data": {
      "text/markdown": [
       "<span style=\"color:#33cc33\">Correct</span>"
      ],
      "text/plain": [
       "Correct"
      ]
     },
     "metadata": {},
     "output_type": "display_data"
    }
   ],
   "source": [
    "def exercise_17(df) -> pd.DataFrame:\n",
    "    df['saturated-fat_100g'] = pd.to_numeric(df['saturated-fat_100g'], errors='coerce')\n",
    "\n",
    "    # Check if 'palm oil' is mentioned in the ingredients\n",
    "    contains_palm = df['ingredients_text'].str.contains('palm oil', case=False, na=False)\n",
    "\n",
    "    # Calculate means for both groups\n",
    "    avg_with_palm = df[contains_palm]['saturated-fat_100g'].mean()\n",
    "    avg_without_palm = df[~contains_palm]['saturated-fat_100g'].mean()\n",
    "\n",
    "    # Create result DataFrame with rounded values\n",
    "    result = pd.DataFrame({\n",
    "        \"contains_palm_oil\": [round(avg_with_palm, 2)],\n",
    "        \"no_palm_oil\": [round(avg_without_palm, 2)]\n",
    "    })\n",
    "\n",
    "    return result\n",
    "ex17_sol = exercise_17(df)\n",
    "q17.check()"
   ]
  },
  {
   "cell_type": "markdown",
   "metadata": {},
   "source": [
    "### Q18: Create a pivot table showing the average carbohydrate content ('carbohydrates_100g') for each food category across different countries."
   ]
  },
  {
   "cell_type": "markdown",
   "metadata": {},
   "source": [
    "This question cannot be tested currently using `leartools`, hence the `q18.check()` always ouput as `correct`. Make sure your code works by yourself before submitting to Github."
   ]
  },
  {
   "cell_type": "code",
   "execution_count": 23,
   "metadata": {},
   "outputs": [
    {
     "name": "stdout",
     "output_type": "stream",
     "text": [
      "The answer for this question is undetermined, use the online test instead.\n"
     ]
    },
    {
     "data": {
      "application/javascript": "parent.postMessage({\"jupyterEvent\": \"custom.exercise_interaction\", \"data\": {\"outcomeType\": 1, \"valueTowardsCompletion\": 0.05, \"interactionType\": 1, \"questionType\": 1, \"questionId\": \"18_Exercise18\", \"failureMessage\": \"\", \"exceptionClass\": \"\", \"trace\": \"\"}}, \"*\")",
      "text/plain": [
       "<IPython.core.display.Javascript object>"
      ]
     },
     "metadata": {},
     "output_type": "display_data"
    },
    {
     "data": {
      "text/markdown": [
       "<span style=\"color:#33cc33\">Correct</span>"
      ],
      "text/plain": [
       "Correct"
      ]
     },
     "metadata": {},
     "output_type": "display_data"
    }
   ],
   "source": [
    "def exercise_18(df) -> pd.DataFrame:\n",
    "    countries = df['countries_en'].dropna()\n",
    "    all_countries = countries.str.split(',').explode().str.strip()\n",
    "    top_countries = all_countries.value_counts().head(10).reset_index()\n",
    "    top_countries.columns = ['country', 'product_count']\n",
    "    return top_countries\n",
    "ex18_sol = exercise_18(df)\n",
    "q18.check()"
   ]
  },
  {
   "cell_type": "markdown",
   "metadata": {},
   "source": [
    "### Q19: Compare the average sodium levels ('sodium_100g') between processed and non-processed foods. Processed foods are those with \"categories\" matching one or more in the list given below. Round your results to the nearest 3 decimal places."
   ]
  },
  {
   "cell_type": "code",
   "execution_count": 48,
   "metadata": {},
   "outputs": [
    {
     "data": {
      "application/javascript": "parent.postMessage({\"jupyterEvent\": \"custom.exercise_interaction\", \"data\": {\"outcomeType\": 1, \"valueTowardsCompletion\": 0.05, \"interactionType\": 1, \"questionType\": 1, \"questionId\": \"19_Exercise19\", \"failureMessage\": \"\", \"exceptionClass\": \"\", \"trace\": \"\"}}, \"*\")",
      "text/plain": [
       "<IPython.core.display.Javascript object>"
      ]
     },
     "metadata": {},
     "output_type": "display_data"
    },
    {
     "data": {
      "text/markdown": [
       "<span style=\"color:#33cc33\">Correct</span>"
      ],
      "text/plain": [
       "Correct"
      ]
     },
     "metadata": {},
     "output_type": "display_data"
    }
   ],
   "source": [
    "processed_keywords = ['snack', 'fast food', 'ready meal', 'processed', 'canned', 'packaged']\n",
    "\n",
    "def exercise_19(df, processed_keywords) -> tuple:\n",
    "    df = df.copy()\n",
    "    df['sodium_100g'] = pd.to_numeric(df['sodium_100g'], errors='coerce')\n",
    "\n",
    "    def is_processed(category_text):\n",
    "        text = str(category_text).lower()\n",
    "        return any(keyword in text for keyword in processed_keywords)\n",
    "\n",
    "    df['is_processed'] = df['categories'].apply(is_processed)\n",
    "\n",
    "    avg_processed = df[df['is_processed']]['sodium_100g'].mean()\n",
    "    avg_non_processed = df[~df['is_processed']]['sodium_100g'].mean()\n",
    "\n",
    "    return float(round(avg_non_processed, 3)), float(round(avg_processed, 3))\n",
    "\n",
    "ex19_sol = exercise_19(df, processed_keywords) # Your output should be(Non-Processed result, Processed result)\n",
    "q19.check()"
   ]
  },
  {
   "cell_type": "markdown",
   "metadata": {},
   "source": [
    "### Q20: Extract the first ingredient from the 'ingredients_text' for each row. NaN values should be saved as 'Unknown'. Show the first 100 values."
   ]
  },
  {
   "cell_type": "code",
   "execution_count": 52,
   "metadata": {},
   "outputs": [
    {
     "data": {
      "application/javascript": "parent.postMessage({\"jupyterEvent\": \"custom.exercise_interaction\", \"data\": {\"outcomeType\": 1, \"valueTowardsCompletion\": 0.05, \"interactionType\": 1, \"questionType\": 1, \"questionId\": \"20_Exercise20\", \"failureMessage\": \"\", \"exceptionClass\": \"\", \"trace\": \"\"}}, \"*\")",
      "text/plain": [
       "<IPython.core.display.Javascript object>"
      ]
     },
     "metadata": {},
     "output_type": "display_data"
    },
    {
     "data": {
      "text/markdown": [
       "<span style=\"color:#33cc33\">Correct</span>"
      ],
      "text/plain": [
       "Correct"
      ]
     },
     "metadata": {},
     "output_type": "display_data"
    }
   ],
   "source": [
    "def exercise_20(df) -> pd.Series:\n",
    "    def extract_first(text):\n",
    "        if pd.isna(text):\n",
    "            return 'Unknown'\n",
    "        return text.split(',')[0].strip()\n",
    "\n",
    "    return df['ingredients_text'].apply(extract_first).head(100)\n",
    "ex20_sol = exercise_20(df)\n",
    "q20.check()"
   ]
  }
 ],
 "metadata": {
  "kernelspec": {
   "display_name": "Python 3",
   "language": "python",
   "name": "python3"
  },
  "language_info": {
   "codemirror_mode": {
    "name": "ipython",
    "version": 3
   },
   "file_extension": ".py",
   "mimetype": "text/x-python",
   "name": "python",
   "nbconvert_exporter": "python",
   "pygments_lexer": "ipython3",
   "version": "3.11.9"
  }
 },
 "nbformat": 4,
 "nbformat_minor": 2
}
